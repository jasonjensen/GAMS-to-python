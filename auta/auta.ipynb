{
 "cells": [
  {
   "cell_type": "markdown",
   "metadata": {},
   "source": [
    "# AUTA model implementation in pyomo\n"
   ]
  },
  {
   "cell_type": "markdown",
   "metadata": {},
   "source": [
    "https://www.pep-net.org/sites/pep-net.org/files/AUTA-en.pdf"
   ]
  },
  {
   "cell_type": "markdown",
   "metadata": {},
   "source": [
    "## 1 Preparation"
   ]
  },
  {
   "cell_type": "markdown",
   "metadata": {},
   "source": [
    "### 1.1 Load libraries"
   ]
  },
  {
   "cell_type": "code",
   "execution_count": null,
   "metadata": {},
   "outputs": [],
   "source": [
    "import random\n",
    "import pyomo.environ as pyo\n",
    "import pyomo.dataportal.DataPortal as DataPortal\n",
    "import pandas as pd\n"
   ]
  },
  {
   "cell_type": "markdown",
   "metadata": {},
   "source": [
    "### 1.2 Rewrite data"
   ]
  },
  {
   "cell_type": "code",
   "execution_count": null,
   "metadata": {},
   "outputs": [],
   "source": [
    "df = pd.read_excel('data/AUTA.xlsx', \n",
    "    sheet_name='AUTA', header=[0], index_col=[0], skiprows=0)\n",
    "df = df.transpose()\n",
    "df.to_json('data/AUTA.json')"
   ]
  },
  {
   "cell_type": "markdown",
   "metadata": {},
   "source": [
    "### 1.3 Helper functions"
   ]
  },
  {
   "cell_type": "code",
   "execution_count": null,
   "metadata": {},
   "outputs": [],
   "source": [
    "## Make some helper functions\n",
    "sam_dict = {}\n",
    "\n",
    "def make_init_func(arg, price_level=1, default=None):\n",
    "    def init_func(*args, price_level=price_level):\n",
    "        if type(price_level) is dict:\n",
    "            price_level = price_level[args[1]]\n",
    "        if (len(arg)):\n",
    "            if (sam_dict[args[1]][arg] is None):\n",
    "                return default\n",
    "            return sam_dict[args[1]][arg]/price_level\n",
    "        if len(args) == 2:\n",
    "            if (sam_dict[args[1]] is None):\n",
    "                return default\n",
    "            return sam_dict[args[1]]/price_level\n",
    "        else:\n",
    "            if (sam_dict[args[1]][args[2]] is None):\n",
    "                return default\n",
    "            return sam_dict[args[1]][args[2]]/price_level\n",
    "    return init_func\n",
    "\n",
    "def make_sum_sectors(level):\n",
    "    def init_func(*args):\n",
    "        if (level == 1):\n",
    "            return sam_dict[args[1]]['AGR'] + sam_dict[args[1]]['MAN'] + sam_dict[args[1]]['SER']\n",
    "        elif (level == 2):\n",
    "            return sam_dict['AGR'][args[1]] + sam_dict['MAN'][args[1]] + sam_dict['SER'][args[1]]\n",
    "    return init_func\n",
    "\n",
    "def price_adjust(sam_row, price_level):\n",
    "    def init_func(*args, price_level=price_level):\n",
    "        if type(price_level) is dict:\n",
    "            return sam_row[args[1]]/price_level[args[1]]\n",
    "        else:\n",
    "            return sam_row[args[1]]/price_level\n",
    "    return init_func"
   ]
  },
  {
   "cell_type": "markdown",
   "metadata": {},
   "source": [
    "### 1.4 Initialize model"
   ]
  },
  {
   "cell_type": "code",
   "execution_count": null,
   "metadata": {},
   "outputs": [],
   "source": [
    "m = pyo.AbstractModel()"
   ]
  },
  {
   "cell_type": "markdown",
   "metadata": {},
   "source": [
    "## 2 Define sets"
   ]
  },
  {
   "cell_type": "code",
   "execution_count": null,
   "metadata": {},
   "outputs": [],
   "source": [
    "m.sectors = pyo.Set(dimen=1,initialize=['AGR','MAN','SER'], doc='Industries and commodities') \n",
    "m.goods = pyo.Set(dimen=1, initialize=['AGR','MAN'], doc='Goods')\n",
    "m.households = pyo.Set(dimen=1, initialize=['SAL', 'CAP'], doc='Households')"
   ]
  },
  {
   "cell_type": "markdown",
   "metadata": {},
   "source": [
    "## 3 Load data"
   ]
  },
  {
   "cell_type": "code",
   "execution_count": null,
   "metadata": {},
   "outputs": [],
   "source": [
    "sam_dict = DataPortal()\n",
    "sam_dict.load(filename='data/AUTA.json', encoding='utf-8')\n",
    "sam_dict.data()\n"
   ]
  },
  {
   "cell_type": "markdown",
   "metadata": {},
   "source": [
    "## 4 Variables and parameters"
   ]
  },
  {
   "cell_type": "markdown",
   "metadata": {},
   "source": [
    "### 4.1 Variables"
   ]
  },
  {
   "cell_type": "code",
   "execution_count": null,
   "metadata": {},
   "outputs": [],
   "source": [
    "## Nominal variables (values)\n",
    "m.CTH     = pyo.Var(m.households, doc='Consumption budget of type h households', initialize=lambda _,h: sam_dict['TOT'][h] - sam_dict['ACC'][h])\n",
    "m.DIV     = pyo.Var(doc='Dividends', initialize=sam_dict['CAP']['F'])\n",
    "m.IT      = pyo.Var(doc='Total investment', initialize=sam_dict['TOT']['ACC'])\n",
    "m.SF      = pyo.Var(doc='Business savings', initialize=sam_dict['ACC']['F'])\n",
    "m.SH      = pyo.Var(m.households, doc='Savings of type h households', initialize=sam_dict['ACC'])\n",
    "m.YF      = pyo.Var(doc='Business income', initialize=sam_dict['TOT']['F'])\n",
    "m.YH      = pyo.Var(m.households, doc='Income of type h households', initialize=sam_dict['TOT'])\n",
    "\n",
    "## Prices (base)\n",
    "prices = {\n",
    "    'P': {\n",
    "        'AGR': 1,\n",
    "        'MAN': 1,\n",
    "        'SER': 1\n",
    "    },\n",
    "    'R': {\n",
    "        'AGR': 1,\n",
    "        'MAN': 1,\n",
    "        'SER': 1\n",
    "    },\n",
    "    'W': 1  \n",
    "}\n",
    "m.P       = pyo.Var(m.sectors, doc='Price of commodity i', initialize=prices['P'])\n",
    "m.R       = pyo.Var(m.sectors, doc='Rental rate of capital in industry j', initialize=prices['R'])\n",
    "m.W       = pyo.Var(doc='Wage rate', initialize=prices['W'])\n",
    "\n",
    "# ## Volume variables \n",
    "m.C       = pyo.Var(m.sectors, m.households, doc='Consumption of commodity i by type h households', initialize=make_init_func('', prices['P']))\n",
    "m.CI      = pyo.Var(m.sectors, doc='Total intermediate consumption of industry j', initialize=make_sum_sectors(level=2))\n",
    "m.DI      = pyo.Var(m.sectors, m.sectors, doc='Intermediate consumption of commodity i in industry j', initialize=make_init_func('',prices['P']))\n",
    "m.DIT     = pyo.Var(m.sectors, doc='Total intermediate demand of commodity i', initialize=make_sum_sectors(level=1))\n",
    "m.INV     = pyo.Var(m.sectors, doc='Final demand of commodity i for investment purposes', initialize=make_init_func('ACC', price_level=prices['P'], default=0.0))\n",
    "m.KD      = pyo.Var(m.sectors, doc='Industry j demand for capital', initialize=price_adjust(sam_dict['KD'], prices['R']))\n",
    "m.KS      = pyo.Var(m.sectors, doc='Capital supply in industry j', initialize=sam_dict['KD'])\n",
    "m.LD      = pyo.Var(m.sectors, doc='Industry j demand for labour', initialize=price_adjust(sam_dict['LD'], prices['W']))\n",
    "m.LS      = pyo.Var(doc='Total labour supply', initialize=sam_dict['LD']['AGR'] + sam_dict['LD']['MAN'] + sam_dict['LD']['SER'])\n",
    "m.VA      = pyo.Var(m.sectors, doc='Value added of industry j', initialize=lambda _, x : sam_dict['LD'][x] + sam_dict['KD'][x])\n",
    "m.XS      = pyo.Var(m.sectors, doc='Output of industry j', initialize=price_adjust(sam_dict['TOT'], prices['P']))\n",
    "\n",
    "## Prices (endogenous)\n",
    "def init_pci(*args):\n",
    "     ci_func = make_sum_sectors(level=2)\n",
    "     return (prices['P']['AGR']*sam_dict['AGR'][args[1]] +\n",
    "      prices['P']['MAN']*sam_dict['MAN'][args[1]] + \n",
    "      prices['P']['SER']*sam_dict['SER'][args[1]]) / ci_func(_, args[1])\n",
    "m.PCI     = pyo.Var(m.sectors, doc='Intermediate consumption price index of industry j', initialize=init_pci)\n",
    "def init_pva(*args):\n",
    "    return (prices['W']*sam_dict['LD'][args[1]] + prices['R'][args[1]]*sam_dict['KD'][args[1]])/(sam_dict['LD'][args[1]] + sam_dict['KD'][args[1]])\n",
    "m.PVA     = pyo.Var(m.sectors, doc='Price of industry j value added', initialize=init_pva)\n",
    "\n",
    "## other variables = \n",
    "m.LEON    = pyo.Var(doc='Excess supply on the market for services')"
   ]
  },
  {
   "cell_type": "markdown",
   "metadata": {},
   "source": [
    "### 4.2 Parameters"
   ]
  },
  {
   "cell_type": "code",
   "execution_count": null,
   "metadata": {},
   "outputs": [],
   "source": [
    "def init_alpha(*args):\n",
    "    \n",
    "    # WO*LDO(j)/{PVAO(j)*VAO(j)};\n",
    "    return (prices['W']*sam_dict['LD'][args[1]] / prices['W']) / (init_pva(args[0], args[1]) * (sam_dict['LD'][args[1]] + sam_dict['KD'][args[1]]))\n",
    "\n",
    "def init_A(*args):\n",
    "    # VAO(j)/{LDO(j)**alpha(j)*KDO(j)**(1-alpha(j))};\n",
    "    alpha = init_alpha(args[0], args[1])\n",
    "    va = sam_dict['LD'][args[1]] + sam_dict['KD'][args[1]]\n",
    "    ld = price_adjust(sam_dict['LD'], prices['W'])(args[0], args[1])\n",
    "    kd = price_adjust(sam_dict['KD'], prices['R'])(args[0], args[1])\n",
    "    return va/(ld**alpha * kd**(1-alpha))\n",
    "\n",
    "def init_v(*args): \n",
    "    va = sam_dict['LD'][args[1]] + sam_dict['KD'][args[1]]\n",
    "    return va/(sam_dict['TOT'][args[1]] / prices['P'][args[1]])\n",
    "\n",
    "def init_io(*args):\n",
    "    ci_func = make_sum_sectors(level=2)\n",
    "    return ci_func(args[0], args[1]) / (sam_dict['TOT'][args[1]] / prices['P'][args[1]])\n",
    "\n",
    "def init_aij(*args):\n",
    "    ci_func = make_sum_sectors(level=2)\n",
    "    di_func = make_init_func('', prices['P'])\n",
    "    return di_func(args[0], args[1], args[2]) / ci_func(args[0], args[2])\n",
    "\n",
    "def init_gamma(*args):\n",
    "    # PO(i)*CO(i,h)/CTHO(h);\n",
    "    # no price adjustment because function expects price-adjusted inputs\n",
    "    cth= sam_dict['TOT'][args[2]] - sam_dict['ACC'][args[2]]\n",
    "    return sam_dict[args[1]][args[2]]/ cth\n",
    "\n",
    "def init_lmbda(*args):\n",
    "    #{YHO('cap')-DIVO}/SUM[j,RO(j)*KDO(j)];\n",
    "    return (sam_dict['TOT']['CAP'] - sam_dict['CAP']['F']) / (sam_dict['KD']['AGR'] + sam_dict['KD']['MAN'] + sam_dict['KD']['SER'])\n",
    "\n",
    "def init_mu(*args):\n",
    "    # PO(i)*INVO(i)/ITO;\n",
    "    inv = make_init_func('ACC', price_level=prices['P'], default=0.0)\n",
    "    return prices['P'][args[1]]*inv(args[0], args[1]) / sam_dict['TOT']['ACC']\n",
    "\n",
    "def init_psi(*args):\n",
    "    #SHO(h)/YHO(h);\n",
    "    return sam_dict['ACC'][args[1]] / sam_dict['TOT'][args[1]]\n",
    "\n",
    "m.A         = pyo.Param(m.sectors, doc='Scale parameter (Cobb-Douglas - Production function)', initialize=init_A)\n",
    "m.aij       = pyo.Param(m.sectors, m.sectors, doc='Scale parameter (Cobb-Douglas - Production function)', initialize=init_aij)\n",
    "m.alpha     = pyo.Param(m.sectors, doc='Elasticity (Cobb-Douglas production function)', initialize=init_alpha)\n",
    "m.gamma     = pyo.Param(m.sectors, m.households, doc='Share of commodity i in type h household consumption budget', initialize=init_gamma)\n",
    "m.io        = pyo.Param(m.sectors, doc='Coefficient (Leontief - total intermediate consumption)', initialize=init_io)\n",
    "m.lmbda     = pyo.Param(doc='Share of capital income receied by capitalists', initialize=init_lmbda)\n",
    "m.mu        = pyo.Param(m.sectors, doc='Share of commodity i in total investment expenditures', initialize=init_mu)\n",
    "m.psi       = pyo.Param(m.households, doc='Average propensity to save of type h household', initialize=init_psi)\n",
    "m.v         = pyo.Param(m.sectors, doc='Coefficient (Leontief - value added)', initialize=init_v)"
   ]
  },
  {
   "cell_type": "markdown",
   "metadata": {},
   "source": [
    "## 5 Equations"
   ]
  },
  {
   "cell_type": "code",
   "execution_count": null,
   "metadata": {},
   "outputs": [],
   "source": [
    "## Production\n",
    "def XSEQ(m, j):\n",
    "    return m.VA[j] == m.v[j]*m.XS[j]\n",
    "m.XSEQ = pyo.Constraint(m.sectors, rule=XSEQ, doc='Value added demand in industry j (Leontief)')\n",
    "\n",
    "def CIEQ(m, j):\n",
    "    return m.CI[j] == m.io[j]*m.XS[j]\n",
    "m.CIEQ = pyo.Constraint(m.sectors, rule=CIEQ, doc='Total intermediate consumption demand in industry j (Leontief)')\n",
    "\n",
    "def VAEQ(m, j):\n",
    "    return m.VA[j] == m.A[j]*(m.LD[j]**m.alpha[j])*(m.KD[j]**(1-m.alpha[j]))\n",
    "m.VAEQ = pyo.Constraint(m.sectors, rule=VAEQ, doc='Cobb-Douglas between labour and capital')\n",
    "\n",
    "def LDEQ(m, j):\n",
    "    return m.W*m.LD[j] == m.alpha[j]*m.PVA[j]*m.VA[j]\n",
    "m.LDEQ = pyo.Constraint(m.sectors, rule=LDEQ, doc='Demand for labour by industry j')\n",
    "\n",
    "def KDEQ(m, j):\n",
    "    return m.R[j]*m.KD[j] == (1-m.alpha[j])*m.PVA[j]*m.VA[j]\n",
    "m.KDEQ = pyo.Constraint(m.sectors, rule=KDEQ, doc='Demand for capital by industry j')\n",
    "\n",
    "def DIEQ(m, i, j):\n",
    "    return m.DI[(i, j)] == m.aij[(i,j)]*m.CI[j]\n",
    "m.DIEQ = pyo.Constraint(m.sectors, m.sectors, rule=DIEQ, doc='Intermediate consumption of commodity i by sector j')\n"
   ]
  },
  {
   "cell_type": "code",
   "execution_count": null,
   "metadata": {},
   "outputs": [],
   "source": [
    "## Income and savings\n",
    "def YHSEQ(m):\n",
    "    return m.YH['SAL'] == m.W*sum(m.LD[j] for j in m.sectors)\n",
    "m.YHSEQ = pyo.Constraint(rule=YHSEQ, doc='Household income (workers)')\n",
    "\n",
    "def YHCEQ(m):\n",
    "    return m.YH['CAP'] == m.lmbda*sum(m.R[j]*m.KD[j] for j in m.sectors) + m.DIV\n",
    "m.YHCEQ = pyo.Constraint(rule=YHCEQ, doc='Household income (workers)')\n",
    "\n",
    "def SHEQ(m, h):\n",
    "    return m.SH[h] == m.psi[h]*m.YH[h]\n",
    "m.SHEQ = pyo.Constraint(m.households, rule=SHEQ, doc='Household h savings')\n",
    "\n",
    "def CTHEQ(m, h):\n",
    "    return m.CTH[h] == m.YH[h] - m.SH[h]\n",
    "m.CTHEQ = pyo.Constraint(m.households, rule=CTHEQ, doc='Consumption budget for household h')\n",
    "\n",
    "def YFEQ(m):\n",
    "    return m.YF == (1-m.lmbda)*sum(m.R[j]*m.KD[j] for j in m.sectors) \n",
    "m.YFEQ = pyo.Constraint(rule=YFEQ, doc='Firms income')\n",
    "\n",
    "def SFEQ(m):\n",
    "    return m.SF == m.YF - m.DIV\n",
    "m.SFEQ = pyo.Constraint(rule=SFEQ, doc='Firms savings')\n",
    " "
   ]
  },
  {
   "cell_type": "code",
   "execution_count": null,
   "metadata": {},
   "outputs": [],
   "source": [
    "## Demand\n",
    "def CEQ(m, i, h):\n",
    "    return m.P[i]*m.C[(i,h)] == m.gamma[(i,h)]*m.CTH[h]\n",
    "m.CEQ = pyo.Constraint(m.sectors, m.households, rule=CEQ, doc='Household h consumption of commodity i')\n",
    "\n",
    "def INVEQ(m, j):\n",
    "    return m.P[j]*m.INV[j] == m.mu[j]*m.IT\n",
    "m.INVEQ = pyo.Constraint(m.sectors, rule=INVEQ, doc='Investment in commodity i')\n",
    "\n",
    "def DITEQ(m, i):\n",
    "    return m.DIT[i] == sum(m.DI[(i,j)] for j in m.sectors)\n",
    "m.DITEQ = pyo.Constraint(m.sectors, rule=DITEQ, doc='Intermediate demand for commodity i')"
   ]
  },
  {
   "cell_type": "code",
   "execution_count": null,
   "metadata": {},
   "outputs": [],
   "source": [
    "## Prices\n",
    "def PCIEQ(m, j):\n",
    "    return m.PCI[j]*m.CI[j] == sum(m.P[i]*m.DI[(i,j)] for i in m.sectors)\n",
    "m.PCIEQ = pyo.Constraint(m.sectors, rule=PCIEQ, doc='Intermediate consumption price index')\n",
    "\n",
    "def CPEQ(m, j):\n",
    "    return m.P[j]*m.XS[j] == m.PVA[j]*m.VA[j] + m.PCI[j]*m.CI[j]\n",
    "m.CPEQ = pyo.Constraint(m.sectors, rule=CPEQ, doc='Production costs for sector j')\n",
    "\n"
   ]
  },
  {
   "cell_type": "code",
   "execution_count": null,
   "metadata": {},
   "outputs": [],
   "source": [
    "## Equilibrium\n",
    "def PEQ(m, bns):\n",
    "    return m.XS[bns] == sum(m.C[(bns, h)] for h in m.households) + m.DIT[bns] + m.INV[bns]\n",
    "m.PEQ = pyo.Constraint(m.goods, rule=PEQ, doc='Domestic absorption (over goods)')\n",
    "\n",
    "def WEQ(m):\n",
    "    return m.LS == sum(m.LD[j] for j in m.sectors)\n",
    "m.WEQ = pyo.Constraint(rule=WEQ, doc='Labour market equilibrium')\n",
    "\n",
    "def REQ(m, j):\n",
    "    return m.KS[j] == m.KD[j]\n",
    "m.REQ = pyo.Constraint(m.sectors, rule=REQ, doc='Capital market equilibrium')\n",
    "\n",
    "def ITEQ(m):\n",
    "    return m.IT == sum(m.SH[h] for h in m.households) + m.SF\n",
    "m.ITEQ = pyo.Constraint(rule=ITEQ, doc='Investment-savings equilibrium')\n",
    "\n",
    "## Other\n",
    "def WALRAS(m):\n",
    "    return m.LEON == m.XS['SER'] - sum(m.C[('SER', h)] for h in m.households) - m.DIT['SER'] - m.INV['SER']\n",
    "m.WALRAS =  pyo.Constraint(rule=WALRAS, doc=\"Verification of Walras' law\")\n"
   ]
  },
  {
   "cell_type": "markdown",
   "metadata": {},
   "source": [
    "## 6 Create instances"
   ]
  },
  {
   "cell_type": "markdown",
   "metadata": {},
   "source": [
    "### 6.1 Helper functions"
   ]
  },
  {
   "cell_type": "code",
   "execution_count": null,
   "metadata": {},
   "outputs": [],
   "source": [
    "def count_nonfixed(i, active=True):\n",
    "    num_non_fixed = 0\n",
    "    for block in i.block_data_objects(active=active):\n",
    "        for data in block.component_map(pyo.Var, active=active).values():\n",
    "            for key in data.keys():\n",
    "                if not data[key].is_fixed():\n",
    "                    num_non_fixed += 1\n",
    "    return num_non_fixed"
   ]
  },
  {
   "cell_type": "code",
   "execution_count": null,
   "metadata": {},
   "outputs": [],
   "source": [
    "def applyFixes(inst):\n",
    "    inst.P['AGR'].fix() #1 numeraire\n",
    "    inst.KS.fix()       #3\n",
    "    inst.LS.fix()       #1\n",
    "    inst.DIV.fix()      #1"
   ]
  },
  {
   "cell_type": "markdown",
   "metadata": {},
   "source": [
    "### 6.2 Define optimization objective"
   ]
  },
  {
   "cell_type": "code",
   "execution_count": null,
   "metadata": {},
   "outputs": [],
   "source": [
    "def obj_expression(m):\n",
    "    return sum(m.C[(j, h)] for j, h in m.sectors*m.households)\n",
    "\n",
    "m.OBJ = pyo.Objective(rule=obj_expression, sense=pyo.maximize)"
   ]
  },
  {
   "cell_type": "markdown",
   "metadata": {},
   "source": [
    "### 6.3 Create base instance"
   ]
  },
  {
   "cell_type": "code",
   "execution_count": null,
   "metadata": {},
   "outputs": [],
   "source": [
    "inst_base = m.create_instance()\n",
    "applyFixes(inst_base)\n",
    "\n",
    "# Check for consistency\n",
    "print('constraints:', inst.nconstraints())\n",
    "print('variables:', inst.nvariables())\n",
    "print('unfixed', count_nonfixed(inst))\n",
    "if (count_nonfixed(inst) == inst.nconstraints()):\n",
    "    print('Model is square.')\n",
    "else:\n",
    "    print('Model is NOT SQUARE!')"
   ]
  },
  {
   "cell_type": "code",
   "execution_count": null,
   "metadata": {},
   "outputs": [],
   "source": [
    "# Display some of the parameters\n",
    "inst_base.A.display()\n",
    "inst_base.alpha.display()\n",
    "inst_base.io.display()\n",
    "inst_base.v.display()\n",
    "inst_base.aij.display()\n",
    "inst_base.gamma.display()\n",
    "inst_base.psi.display()\n",
    "inst_base.mu.display()\n",
    "inst_base.lmbda.display()"
   ]
  },
  {
   "cell_type": "markdown",
   "metadata": {},
   "source": [
    "### 6.4 Create scenarios"
   ]
  },
  {
   "cell_type": "code",
   "execution_count": null,
   "metadata": {},
   "outputs": [],
   "source": [
    "# Capital shock on service sector\n",
    "inst_scenario_1 = m.create_instance()\n",
    "applyFixes(inst_scenario_1)\n",
    "inst_scenario_1.KS['SER'] = 1.1 * inst_scenario_1.KS['SER'].value\n",
    "\n",
    "# Shock to numeraire\n",
    "inst_scenario_2 = m.create_instance()\n",
    "applyFixes(inst_scenario_2)\n",
    "inst_scenario_2.P['AGR'] = 1.5 * inst_scenario_2.P['AGR'].value\n",
    "inst_scenario_2.DIV = 1.5 * inst_scenario_2.DIV.value"
   ]
  },
  {
   "cell_type": "markdown",
   "metadata": {},
   "source": [
    "## 7 Solve instances\n",
    "This should be fast as the model is already at equilibrium."
   ]
  },
  {
   "cell_type": "code",
   "execution_count": null,
   "metadata": {},
   "outputs": [],
   "source": [
    "opt = pyo.SolverFactory('ipopt')\n",
    "opt.solve(inst_base)"
   ]
  },
  {
   "cell_type": "code",
   "execution_count": null,
   "metadata": {},
   "outputs": [],
   "source": [
    "opt.solve(inst_scenario_1)"
   ]
  },
  {
   "cell_type": "code",
   "execution_count": null,
   "metadata": {},
   "outputs": [],
   "source": [
    "opt.solve(inst_scenario_2)"
   ]
  },
  {
   "cell_type": "markdown",
   "metadata": {},
   "source": [
    "## 8 Display results"
   ]
  },
  {
   "cell_type": "code",
   "execution_count": null,
   "metadata": {},
   "outputs": [],
   "source": [
    "inst_base.display()"
   ]
  },
  {
   "cell_type": "code",
   "execution_count": null,
   "metadata": {},
   "outputs": [],
   "source": [
    "inst_scenario_1.display()"
   ]
  },
  {
   "cell_type": "code",
   "execution_count": null,
   "metadata": {},
   "outputs": [],
   "source": [
    "inst_scenario_2.display()"
   ]
  },
  {
   "cell_type": "code",
   "execution_count": null,
   "metadata": {},
   "outputs": [],
   "source": []
  }
 ],
 "metadata": {
  "interpreter": {
   "hash": "468819c82e791b0f9a8e64a9b2ca550cabcbea14dfb8d98bf6b8daf534ac0400"
  },
  "kernelspec": {
   "display_name": "Python 3.8.8 64-bit ('base': conda)",
   "name": "python3"
  },
  "language_info": {
   "codemirror_mode": {
    "name": "ipython",
    "version": 3
   },
   "file_extension": ".py",
   "mimetype": "text/x-python",
   "name": "python",
   "nbconvert_exporter": "python",
   "pygments_lexer": "ipython3",
   "version": "3.8.8"
  },
  "orig_nbformat": 2
 },
 "nbformat": 4,
 "nbformat_minor": 2
}

{
 "cells": [
  {
   "cell_type": "markdown",
   "metadata": {},
   "source": [
    "# AUTETA model implementation in pyomo\n"
   ]
  },
  {
   "cell_type": "markdown",
   "metadata": {},
   "source": [
    "https://www.pep-net.org/sites/pep-net.org/files/AUTETA-en.pdf"
   ]
  },
  {
   "cell_type": "markdown",
   "metadata": {},
   "source": [
    "## 1 Preparation"
   ]
  },
  {
   "cell_type": "markdown",
   "metadata": {},
   "source": [
    "### 1.1 Load libraries"
   ]
  },
  {
   "cell_type": "code",
   "execution_count": null,
   "metadata": {},
   "outputs": [],
   "source": [
    "import pyomo.environ as pyo\n",
    "from pyomo.environ import AbstractModel, Set, Param, Var, Constraint\n",
    "import pyomo.dataportal.DataPortal as DataPortal\n",
    "import pandas as pd\n",
    "import json\n",
    "from pyomo.core.expr.numvalue import value as constraintValue\n",
    "import idaes.core.util as idaes_utils\n",
    "from pyomo.core.expr.current import identify_variables\n",
    "from pyomo.common.collections import ComponentSet\n",
    "import numpy as np\n",
    "from openpyxl import load_workbook"
   ]
  },
  {
   "cell_type": "markdown",
   "metadata": {},
   "source": [
    "### 1.2 Rewrite data"
   ]
  },
  {
   "cell_type": "code",
   "execution_count": null,
   "metadata": {},
   "outputs": [],
   "source": [
    "df = pd.read_excel('data/AUTETA.xlsx', sheet_name='SAM', header=[0,1], index_col=[0,1])\n",
    "df.to_json('data/AUTETA.json')"
   ]
  },
  {
   "cell_type": "markdown",
   "metadata": {},
   "source": [
    "### 1.3 Helper functions"
   ]
  },
  {
   "cell_type": "code",
   "execution_count": null,
   "metadata": {},
   "outputs": [],
   "source": [
    "sam_dict = {}\n",
    "\n",
    "## Make some helper functions\n",
    "## Dictionary is organizec as \"FROM (C, D) TO (A, B)\"\n",
    "## But commands will come in form (TO (A, B) FROM (C, D))\n",
    "def sam(c, over=[], prices=None):\n",
    "    \n",
    "    coord = [0,0,0,0]\n",
    "    d = {}\n",
    "    p = {}\n",
    "    if prices:\n",
    "        if isinstance(prices, int):\n",
    "            if(len(over) == 1):\n",
    "                for cat in over[0]:\n",
    "                    p[cat] = prices\n",
    "            elif(len(over) == 2):\n",
    "                for cat in over[1]:\n",
    "                    p[cat] = prices\n",
    "            elif (len(over) == 0):\n",
    "                p['singular'] = prices\n",
    "        else:\n",
    "            p = prices\n",
    "    p['ADM'] = 1 #hack\n",
    "    \n",
    "    # print(p)\n",
    "    ## need to loop over levels:\n",
    "    if (len(over) == 0):\n",
    "        # print(sam_dict[f\"('{c[0]}', '{c[1]}')\"][f\"('{c[2]}', '{c[3]}')\"])\n",
    "        if ('singular' in list(p.keys())):\n",
    "            return sam_dict[f\"('{c[2]}', '{c[3]}')\"][f\"('{c[0]}', '{c[1]}')\"] / p['singular']    \n",
    "        else:\n",
    "            return sam_dict[f\"('{c[2]}', '{c[3]}')\"][f\"('{c[0]}', '{c[1]}')\"]\n",
    "        # return sam[(c[0],c[1])][(c[2],c[3])]\n",
    "        ## return the coordinate\n",
    "    if len(over) == 1:\n",
    "        idx = c.index(0)\n",
    "        for cat in over[0]:\n",
    "            coord = c.copy()\n",
    "            coord[idx] = cat\n",
    "            d[cat] = sam(coord)\n",
    "            if d[cat] is None: d[cat] = 0 #fix nonetype values\n",
    "            ## adjust for prices\n",
    "            if cat in p.keys():\n",
    "                d[cat] = d[cat]/p[cat]\n",
    "    if len(over) == 2:\n",
    "        idx = c.index(0)\n",
    "        idx2 = c.index(1)\n",
    "        for cat in over[0]:\n",
    "            for cat2 in over[1]:\n",
    "                coord = c.copy()\n",
    "                coord[idx] = cat\n",
    "                coord[idx2] = cat2\n",
    "                d[(cat,cat2)] = sam(coord)\n",
    "                if d[(cat,cat2)] is None: d[(cat,cat2)] = 0 #fix nonetype values\n",
    "                ## assume only 2nd variable is adjusted for prices\n",
    "                if cat in p.keys():\n",
    "                    d[(cat,cat2)] = d[(cat,cat2)]/p[cat]\n",
    "                \n",
    "    \n",
    "\n",
    "\n",
    "    # print(d)\n",
    "    return d\n",
    "\n",
    "## helper function for retriving initial values\n",
    "def val(obj, sub1=None, sub2=None, default=None):\n",
    "    try:\n",
    "        if isinstance(obj, Var):\n",
    "            if (sub2): return obj._value_init_value[(sub1,sub2)]\n",
    "            if (sub1): return obj._value_init_value[sub1]\n",
    "            return obj._value_init_value\n",
    "        if isinstance(obj, Param):\n",
    "            values = obj.default()\n",
    "            if (sub2): return values[(sub1,sub2)]\n",
    "            if (sub1): return values[sub1]\n",
    "            return values\n",
    "    except KeyError:\n",
    "        if default is not None:\n",
    "            return default\n",
    "        else:\n",
    "            raise\n",
    "\n",
    "\n",
    "def divide(d1, d2):\n",
    "    d = {}\n",
    "    for key in d1.keys():\n",
    "        d[key] = d1[key]/d2[key]\n",
    "    return d\n"
   ]
  },
  {
   "cell_type": "markdown",
   "metadata": {},
   "source": [
    "### 1.4 Initialize model"
   ]
  },
  {
   "cell_type": "code",
   "execution_count": null,
   "metadata": {},
   "outputs": [],
   "source": [
    "m = AbstractModel()"
   ]
  },
  {
   "cell_type": "markdown",
   "metadata": {},
   "source": [
    "## 2 Define sets"
   ]
  },
  {
   "cell_type": "code",
   "execution_count": null,
   "metadata": {},
   "outputs": [],
   "source": [
    "sectors = ['AGR','MAN','SER','PUB']\n",
    "tradeables = ['AGR','MAN','SER']\n",
    "goods = ['AGR','MAN']\n",
    "households = ['SAL', 'CAP']\n",
    "m.sectors = Set(dimen=1,initialize=sectors, doc='Industries and commodities') \n",
    "m.tradeables = Set(dimen=1, initialize=tradeables, doc='Tradeable commodities')\n",
    "m.goods = Set(dimen=1, initialize=goods, doc='Goods')\n",
    "m.households = Set(dimen=1, initialize=households, doc='Households')"
   ]
  },
  {
   "cell_type": "markdown",
   "metadata": {},
   "source": [
    "## 3 Load data"
   ]
  },
  {
   "cell_type": "code",
   "execution_count": null,
   "metadata": {},
   "outputs": [],
   "source": [
    "sam_dict = DataPortal()\n",
    "sam_dict.load(filename='data/AUTETA.json', encoding='utf-8')\n",
    "sam_dict.data()"
   ]
  },
  {
   "cell_type": "markdown",
   "metadata": {},
   "source": [
    "## 4. Variables and Parameters"
   ]
  },
  {
   "cell_type": "markdown",
   "metadata": {},
   "source": [
    "### 4.1 Variables"
   ]
  },
  {
   "cell_type": "code",
   "execution_count": null,
   "metadata": {},
   "outputs": [],
   "source": [
    "#note structure: TO (AG, CAP) FROM (AG, FIRM) \n",
    "\n",
    "# Prices (base)\n",
    "prices = {\n",
    "    'P': {\n",
    "        'AGR': 1,\n",
    "        'MAN': 1,\n",
    "        'SER': 1,\n",
    "        'PUB': 1\n",
    "    },\n",
    "    'R': {\n",
    "        'AGR': 1,\n",
    "        'MAN': 1,\n",
    "        'SER': 1\n",
    "    },\n",
    "    'W': 1  \n",
    "}\n",
    "m.P       = pyo.Var(m.sectors, doc='Price of commodity i', initialize=prices['P'])\n",
    "m.R       = pyo.Var(m.tradeables, doc='Rental rate of capital in industry j', initialize=prices['R'])\n",
    "m.W       = pyo.Var(doc='Wage rate', initialize=prices['W'])\n",
    "\n",
    "## ACCOUNTING MATRIX VARIABLES\n",
    "m.DIV     = Var(doc='Dividends', initialize=sam(['AG','CAP','AG','FIRM']))\n",
    "m.IT      = Var(doc='Total investment', initialize=sam(['OTH', 'TOT','OTH','ACC']))\n",
    "m.SF      = Var(doc='Business savings', initialize=sam(['OTH','ACC','AG','FIRM']))\n",
    "m.SH      = Var(m.households, doc='Savings of type h households', initialize=sam(['OTH', 'ACC','AG', 0], over=[households]))\n",
    "m.YF      = Var(doc='Business income', initialize=sam(['OTH','TOT','AG','FIRM']))\n",
    "m.YH      = Var(m.households, doc='Income of type h households', initialize=sam(['OTH','TOT','AG',0], over=[households]))\n",
    "m.G       = Var(doc='Current public expenditures', initialize=sam(['I','PUB','AG','GVT']))\n",
    "m.TG      = Var(doc='Public transfers to salaried households', initialize=sam(['AG','SAL','AG','GVT']))\n",
    "m.DTH     = Var(m.households, doc='Receipts from direct taxation on household h income', initialize=sam(['AG','GVT','AG',0], over=[households]))\n",
    "m.DTF     = Var(doc='Receipts from direct taxation on firms\\' income', initialize=sam(['AG','GVT','AG','FIRM']))\n",
    "m.TI      = Var(m.tradeables, doc='Receipts from indirect tax on commodity tr', initialize=sam(['AG','GVT','I',0], over=[tradeables]))\n",
    "m.YG      = Var(doc='Government income', initialize=sam(['OTH','TOT','AG','GVT']))\n",
    "m.SG      = Var(doc='Government savings', initialize=sam(['OTH','ACC','AG','GVT']))\n",
    "\n",
    "\n",
    "\n",
    "## Variables which need to be converted to volumes using base prices\n",
    "m.LD      = Var(m.sectors, doc='Industry j demand for labour', initialize=sam(['F','LD','J',0], over=[sectors], prices=prices['W']))\n",
    "m.KD      = Var(m.tradeables, doc='Industry tr demand for capital', initialize=sam(['F','KD','J',0], over=[tradeables], prices=prices['R']))\n",
    "m.XS      = Var(m.sectors, doc='Output of industry j', initialize=sam(['OTH','TOT','J',0,], over=[sectors], prices=prices['P']))\n",
    "\n",
    "\n",
    "# Get tax rate parameter and price including taxes\n",
    "tx = dict(map(lambda x: (x, m.TI._value_init_value[x] / (prices['P'][x] * m.XS._value_init_value[x])), tradeables))\n",
    "m.tx      = Param(m.tradeables, doc='Tax rate on commodity tr', initialize=tx, mutable=True)\n",
    "m.PD      = Var(m.tradeables, doc='Price of commodity tr (including taxes)', \n",
    "            initialize=dict(map(lambda tr: (tr, (1+tx[tr])/prices['P'][tr]), tradeables)))\n",
    "\n",
    "## Variables which need to be converted to volumes using prices including taxes\n",
    "m.C       = Var(m.tradeables, m.households, doc='Consumption of commodity i by type h households', \n",
    "                initialize=sam(['I',0,'AG',1], over=[tradeables, households], prices=val(m.PD)))\n",
    "m.INV     = Var(m.tradeables, doc='Final demand of commodity i for investment purposes', \n",
    "                initialize=sam(['I',0,'OTH','ACC'], over=[tradeables], prices=val(m.PD)))\n",
    "m.DI      = Var(m.tradeables, m.sectors, doc='Intermediate consumption of commodity tr in industry j', \n",
    "                initialize=sam(['I',0,'J',1], over=[tradeables, sectors], prices=val(m.PD)))\n",
    "\n",
    "# Other variables\n",
    "m.LS      = Var(doc='Total labour supply', initialize=sum(m.LD._value_init_value.values()))\n",
    "m.KS      = Var(m.tradeables, doc='Capital supply in industry tr', initialize=m.KD._value_init_value)\n",
    "\n",
    "#Value-added is tricky because there's a special rules for the public sector\n",
    "VA = dict(map(lambda tr: (tr, m.LD._value_init_value[tr] + m.KD._value_init_value[tr]), tradeables))\n",
    "PVA = dict(map(lambda tr: (tr, (prices['W']*m.LD._value_init_value[tr] + prices['R'][tr]*m.KD._value_init_value[tr])/VA[tr]), tradeables))\n",
    "VA['PUB'] = m.LD._value_init_value['PUB']\n",
    "PVA['PUB'] = prices['W']\n",
    "m.VA      = Var(m.sectors, doc='Value added of industry j', initialize=VA)\n",
    "m.PVA     = Var(m.sectors, doc='Price of value added of industry j', initialize=PVA)\n",
    "\n",
    "# variables summed across other variables\n",
    "m.DIT     = Var(m.tradeables, doc='Total intermediate demand of commodity tr', \n",
    "                initialize=dict(map(lambda tr: (tr, sum(val(m.DI,tr,j) for j in sectors)), tradeables)))\n",
    "m.CI      = Var(m.sectors, doc='Total intermediate consumption of industry j', \n",
    "                    initialize=dict(map(lambda j: (j, sum(val(m.DI,tr,j) for tr in tradeables)), sectors)))\n",
    "m.PCI     = Var(m.sectors, doc='Intermediate consumption price index of industry j',\n",
    "                initialize=dict(map(lambda j: (j, sum(val(m.PD, tr)*val(m.DI,tr,j) for tr in tradeables) / m.CI._value_init_value[j]), sectors)))\n",
    "m.YDH     = Var(m.households, doc='Disposable income of type h households', \n",
    "                initialize=dict(map(lambda h: (h, m.YH._value_init_value[h] - m.DTH._value_init_value[h]), households)))\n",
    "m.CTH     = Var(m.households, doc='Consumption budget of type h households',\n",
    "                initialize=dict(map(lambda h: (h, m.YDH._value_init_value[h] - m.SH._value_init_value[h]), households)))\n",
    "\n",
    "## other variables \n",
    "m.LEON    = Var(doc='Excess supply on the market for services', initialize=0)"
   ]
  },
  {
   "cell_type": "markdown",
   "metadata": {},
   "source": [
    "### 4.2 Parameters"
   ]
  },
  {
   "cell_type": "code",
   "execution_count": null,
   "metadata": {},
   "outputs": [],
   "source": [
    "alpha       = dict(map(lambda tr: (tr, \n",
    "                        val(m.W)*val(m.LD, tr) / (val(m.PVA, tr)*val(m.VA, tr))), \n",
    "                        tradeables))\n",
    "m.alpha     = Param(m.tradeables, doc='Elasticity (Cobb-Douglas production function)', \n",
    "                        initialize=alpha)\n",
    "m.A         = Param(m.tradeables, doc='Scale parameter (Cobb-Douglas - Production function)', \n",
    "                        initialize=dict(map(lambda tr: (tr, \n",
    "                        val(m.VA, tr)/(val(m.LD, tr)**alpha[tr]*val(m.KD, tr)**(1-alpha[tr]))), \n",
    "                        tradeables)))\n",
    "m.aij       = Param(m.tradeables, m.sectors, doc='Coefficient (Leontief - intermediate consumption)', \n",
    "                    initialize=dict([((tr, j), val(m.DI, tr, j)/val(m.CI, j)) for tr in tradeables for j in sectors]))\n",
    "m.gamma     = Param(m.tradeables, m.households, doc='Share of commodity i in type h household consumption budget', \n",
    "                    initialize=dict([((tr, h), val(m.PD, tr)*val(m.C, tr, h)/val(m.CTH, h)) for tr in tradeables for h in households]))\n",
    "m.io        = pyo.Param(m.sectors, doc='Coefficient (Leontief - total intermediate consumption)', \n",
    "                        initialize=dict(map(lambda j: (j, \n",
    "                        val(m.CI, j)/val(m.XS, j)), \n",
    "                        sectors)))\n",
    "m.lmbda     = pyo.Param(doc='Share of capital income receied by capitalists', \n",
    "                        initialize=(val(m.YH, 'CAP')-m.DIV)/sum(val(m.R, tr)*val(m.KD, tr) for tr in tradeables))\n",
    "m.mu        = pyo.Param(m.sectors, doc='Share of commodity i in total investment expenditures', \n",
    "                        initialize=dict(map(lambda tr: (tr, \n",
    "                        val(m.PD, tr)*val(m.INV, tr)/val(m.IT)), \n",
    "                        tradeables)))\n",
    "m.psi       = pyo.Param(m.households, doc='Average propensity to save of type h household', \n",
    "                        initialize=dict(map(lambda h: (h, \n",
    "                        val(m.SH, h)/val(m.YDH, h)), \n",
    "                        households)))\n",
    "m.v         = pyo.Param(m.sectors, doc='Coefficient (Leontief - value added)', \n",
    "                        initialize=dict(map(lambda j: (j, \n",
    "                        val(m.VA, j)/val(m.XS, j)), \n",
    "                        sectors)))\n",
    "m.tyh       = pyo.Param(m.households, doc='Direct tax rate on household h income', \n",
    "                        initialize=dict(map(lambda h: (h, \n",
    "                        val(m.DTH, h)/val(m.YH, h)), \n",
    "                        households)))\n",
    "m.tyf       = pyo.Param(doc='Direct tax on rate of firms\\' income', \n",
    "                        initialize=val(m.DTF)/val(m.YF))"
   ]
  },
  {
   "cell_type": "markdown",
   "metadata": {},
   "source": [
    "## 5 Equations"
   ]
  },
  {
   "cell_type": "code",
   "execution_count": null,
   "metadata": {},
   "outputs": [],
   "source": [
    "## Production\n",
    "def XSEQ(m, j):\n",
    "    return m.VA[j] == m.v[j]*m.XS[j]\n",
    "m.XSEQ = pyo.Constraint(m.sectors, rule=XSEQ, doc='Value added demand in industry j (Leontief)')\n",
    "\n",
    "def CIEQ(m, j):\n",
    "    return m.CI[j] == m.io[j]*m.XS[j]\n",
    "m.CIEQ = pyo.Constraint(m.sectors, rule=CIEQ, doc='Total intermediate consumption demand in industry j (Leontief)')\n",
    "\n",
    "def VAEQ(m, tr):\n",
    "    return m.VA[tr] == m.A[tr]*(m.LD[tr]**m.alpha[tr])*(m.KD[tr]**(1-m.alpha[tr]))\n",
    "m.VAEQ = pyo.Constraint(m.tradeables, rule=VAEQ, doc='Cobb-Douglas between labour and capital')\n",
    "\n",
    "def LDEQ(m, tr):\n",
    "    return m.W*m.LD[tr] == m.alpha[tr]*m.PVA[tr]*m.VA[tr]\n",
    "m.LDEQ = pyo.Constraint(m.tradeables, rule=LDEQ, doc='Demand for labour by industry j')\n",
    "\n",
    "def LDPEQ(m):\n",
    "    return m.LD['PUB'] == m.VA['PUB']\n",
    "m.LDPEQ = pyo.Constraint(rule=LDPEQ, doc='Demand for labour in the public sector')\n",
    "\n",
    "def KDEQ(m, tr):\n",
    "    return m.R[tr]*m.KD[tr] == (1-m.alpha[tr])*m.PVA[tr]*m.VA[tr]\n",
    "m.KDEQ = pyo.Constraint(m.tradeables, rule=KDEQ, doc='Demand for capital by industry j')\n",
    "\n",
    "def DIEQ(m, tr, j):\n",
    "    return m.DI[(tr, j)] == m.aij[(tr,j)]*m.CI[j]\n",
    "m.DIEQ = pyo.Constraint(m.tradeables, m.sectors, rule=DIEQ, doc='Intermediate consumption of commodity i by sector j')\n"
   ]
  },
  {
   "cell_type": "code",
   "execution_count": null,
   "metadata": {},
   "outputs": [],
   "source": [
    "## Income and savings\n",
    "def YHSEQ(m):\n",
    "    return m.YH['SAL'] == m.W*sum(m.LD[j] for j in m.sectors) + m.TG\n",
    "m.YHSEQ = Constraint(rule=YHSEQ, doc='Household income (workers)')\n",
    "\n",
    "def YHCEQ(m):\n",
    "    return m.YH['CAP'] == m.lmbda*sum(m.R[tr]*m.KD[tr] for tr in m.tradeables) + m.DIV\n",
    "m.YHCEQ = Constraint(rule=YHCEQ, doc='Household income (workers)')\n",
    "\n",
    "def YDHEQ(m, h):\n",
    "    return m.YDH[h] == m.YH[h] - m.DTH[h]\n",
    "m.YDHEQ = Constraint(m.households, rule=YDHEQ, doc='Household disposable income')\n",
    "\n",
    "def SHEQ(m, h):\n",
    "    return m.SH[h] == m.psi[h]*m.YDH[h]\n",
    "m.SHEQ = Constraint(m.households, rule=SHEQ, doc='Household h savings')\n",
    "\n",
    "def CTHEQ(m, h):\n",
    "    return m.CTH[h] == m.YDH[h] - m.SH[h]\n",
    "m.CTHEQ = Constraint(m.households, rule=CTHEQ, doc='Consumption budget for household h')\n",
    "\n",
    "def YFEQ(m):\n",
    "    return m.YF == (1-m.lmbda)*sum(m.R[tr]*m.KD[tr] for tr in m.tradeables) \n",
    "m.YFEQ = Constraint(rule=YFEQ, doc='Firms income')\n",
    "\n",
    "def SFEQ(m):\n",
    "    return m.SF == m.YF - m.DIV - m.DTF\n",
    "m.SFEQ = Constraint(rule=SFEQ, doc='Firms savings')\n",
    "\n",
    "def YGEQ(m):\n",
    "    return m.YG == sum(m.TI[tr] for tr in m.tradeables) + sum(m.DTH[h] for h in m.households) + m.DTF\n",
    "m.YGEQ = Constraint(rule=YGEQ, doc='Government income')\n",
    "\n",
    "def TIEQ(m, tr):\n",
    "    return m.TI[tr] == m.tx[tr]*m.P[tr]*m.XS[tr]\n",
    "m.TIEQ = Constraint(m.tradeables, rule=TIEQ, doc='Receipts from indirect taxation')\n",
    "\n",
    "def DTHEQ(m, h):\n",
    "    return m.DTH[h] == m.tyh[h]*m.YH[h]\n",
    "m.DTHEQ = Constraint(m.households, rule=DTHEQ, doc='Receipts from income taxes (households)')\n",
    "\n",
    "def DTFEQ(m):\n",
    "    return m.DTF == m.tyf*m.YF\n",
    "m.DTFEQ = Constraint(rule=DTFEQ, doc='Receipts from income taxes (firms)')\n",
    "\n",
    "def SGEQ(m):\n",
    "    return m.SG == m.YG - m.G - m.TG\n",
    "m.SGEQ = Constraint(rule=SGEQ, doc='Government savings')\n",
    "\n"
   ]
  },
  {
   "cell_type": "code",
   "execution_count": null,
   "metadata": {},
   "outputs": [],
   "source": [
    "## Demand\n",
    "def CEQ(m, tr, h):\n",
    "    return m.PD[tr]*m.C[(tr,h)] == m.gamma[(tr,h)]*m.CTH[h]\n",
    "m.CEQ = Constraint(m.tradeables, m.households, rule=CEQ, doc='Household h consumption of commodity tr')\n",
    "\n",
    "def INVEQ(m, tr):\n",
    "    return m.PD[tr]*m.INV[tr] == m.mu[tr]*m.IT\n",
    "m.INVEQ = Constraint(m.tradeables, rule=INVEQ, doc='Investment in commodity tr')\n",
    "\n",
    "def DITEQ(m, tr):\n",
    "    return m.DIT[tr] == sum(m.DI[(tr,j)] for j in m.sectors)\n",
    "m.DITEQ = Constraint(m.tradeables, rule=DITEQ, doc='Intermediate demand for commodity i')"
   ]
  },
  {
   "cell_type": "code",
   "execution_count": null,
   "metadata": {},
   "outputs": [],
   "source": [
    "## Prices\n",
    "def PVAPEQ(m):\n",
    "    return m.PVA['PUB'] == m.W\n",
    "m.PVAPEQ = Constraint(rule=PVAPEQ, doc='Equivalence between PVA and W for public sector')\n",
    "\n",
    "def PCIEQ(m, j):\n",
    "    return m.PCI[j]*m.CI[j] == sum(m.PD[tr]*m.DI[(tr,j)] for tr in tradeables)\n",
    "m.PCIEQ = Constraint(m.sectors, rule=PCIEQ, doc='Intermediate consumption price index')\n",
    "\n",
    "def CPEQ(m, j):\n",
    "    return m.P[j]*m.XS[j] == m.PVA[j]*m.VA[j] + m.PCI[j]*m.CI[j]\n",
    "m.CPEQ = Constraint(m.sectors, rule=CPEQ, doc='Production costs for sector j')\n",
    "\n",
    "def PDEQ(m, tr):\n",
    "    return m.PD[tr] == m.P[tr]*(1+m.tx[tr])\n",
    "m.PDEQ = Constraint(m.tradeables, rule=PDEQ, doc='Price of commodity tr including taxes')"
   ]
  },
  {
   "cell_type": "code",
   "execution_count": null,
   "metadata": {},
   "outputs": [],
   "source": [
    "## Equilibrium\n",
    "def PEQ(m, bns):\n",
    "    return m.XS[bns] == sum(m.C[(bns, h)] for h in m.households) + m.DIT[bns] + m.INV[bns]\n",
    "m.PEQ = Constraint(m.goods, rule=PEQ, doc='Domestic absorption (over goods)')\n",
    "\n",
    "def PPUBEQ(m):\n",
    "    return m.G == m.P['PUB']*m.XS['PUB']\n",
    "m.PPUBEQ = Constraint(rule=PPUBEQ, doc='Equilibrium on the market for public services')\n",
    "\n",
    "def WEQ(m):\n",
    "    return m.LS == sum(m.LD[j] for j in m.sectors)\n",
    "m.WEQ = Constraint(rule=WEQ, doc='Labour market equilibrium')\n",
    "\n",
    "def REQ(m, tr):\n",
    "    return m.KS[tr] == m.KD[tr]\n",
    "m.REQ = Constraint(m.tradeables, rule=REQ, doc='Capital market equilibrium')\n",
    "\n",
    "def ITEQ(m):\n",
    "    return m.IT == sum(m.SH[h] for h in m.households) + m.SF + m.SG\n",
    "m.ITEQ = Constraint(rule=ITEQ, doc='Investment-savings equilibrium')\n",
    "\n",
    "## Other\n",
    "def WALRAS(m):\n",
    "    return m.LEON == m.XS['SER'] - sum(m.C[('SER', h)] for h in m.households) - m.DIT['SER'] - m.INV['SER']\n",
    "m.WALRAS =  Constraint(rule=WALRAS, doc=\"Verification of Walras' law\")\n"
   ]
  },
  {
   "cell_type": "markdown",
   "metadata": {},
   "source": [
    "## 6 Create instances"
   ]
  },
  {
   "cell_type": "markdown",
   "metadata": {},
   "source": [
    "### 6.1 Helper functions"
   ]
  },
  {
   "cell_type": "code",
   "execution_count": null,
   "metadata": {},
   "outputs": [],
   "source": [
    "def count_nonfixed(i, active=True):\n",
    "    \n",
    "    num_non_fixed = 0\n",
    "    num_fixed = 0\n",
    "    num_vars = 0\n",
    "    for block in i.block_data_objects(active=active):\n",
    "        var_set = ComponentSet()\n",
    "        for c in block.component_data_objects(\n",
    "                ctype=Constraint, active=True, descend_into=True):\n",
    "            for v in identify_variables(c.body):\n",
    "                var_set.add(v)\n",
    "\n",
    "        for v in var_set:\n",
    "            if v.is_fixed():\n",
    "                num_fixed += 1\n",
    "            else: \n",
    "                num_non_fixed += 1\n",
    "        num_vars = len(var_set)\n",
    " \n",
    "    return num_non_fixed, num_fixed, num_vars\n",
    "\n",
    "def count_constraints(i, active=True):\n",
    "    num_constraints = 0\n",
    "    for block in i.block_data_objects(active=active):\n",
    "        for data in block.component_map(pyo.Constraint, active=active).values():\n",
    "            for key in data._data.keys():\n",
    "                num_constraints += 1\n",
    "    return num_constraints\n",
    "\n",
    "def checkSquareness(inst):\n",
    "    num_non_fixed, num_fixed, num_vars = count_nonfixed(inst)\n",
    "    if (num_non_fixed == inst.nconstraints()):\n",
    "        print('Instance IS SQUARE.')\n",
    "    else:\n",
    "        print('Instance is NOT SQUARE!')\n",
    "\n",
    "def checkFeasibility(inst, limit=1e-9):\n",
    "    feasible = True\n",
    "    num_checked = 0\n",
    "    for block in inst.block_data_objects(active=True):\n",
    "        for constraint in block.component_map(pyo.Constraint, active=True).values():\n",
    "            # print(constraint, len(list(constraint._data.keys())), constraint.doc)\n",
    "            for index in constraint.index_set():\n",
    "                if index in list(constraint._data.keys()):\n",
    "                    num_checked = num_checked + 1\n",
    "                    if abs(constraintValue(constraint[index])) > limit:\n",
    "                        feasible = False\n",
    "                        print('Infeasibility:', constraint, index, constraintValue(constraint[index]))\n",
    "    print(f'Checked {num_checked} constraints.')\n",
    "    \n",
    "    if feasible:\n",
    "        print('All equations balanced. Instance is feasible')\n",
    "\n",
    "def has_value(obj, key):\n",
    "    if obj[key].value != 0:\n",
    "         if obj[key].value != 0.0:\n",
    "             if obj[key].value is not None:\n",
    "                 return True\n",
    "    return False"
   ]
  },
  {
   "cell_type": "code",
   "execution_count": null,
   "metadata": {},
   "outputs": [],
   "source": [
    "def applyFixes(inst, m):\n",
    "    inst.P['AGR'].fix() #1 numeraire\n",
    "    inst.KS.fix()       #3\n",
    "    inst.LS.fix()       #1\n",
    "    inst.DIV.fix()      #1\n",
    "    inst.G.fix()      #1\n",
    "    inst.TG.fix()      #1"
   ]
  },
  {
   "cell_type": "markdown",
   "metadata": {},
   "source": [
    "### 6.2 Define optimization objective"
   ]
  },
  {
   "cell_type": "code",
   "execution_count": null,
   "metadata": {},
   "outputs": [],
   "source": [
    "def obj_expression(m):\n",
    "    return sum(m.C[(tr, h)] for tr,h in m.tradeables*m.households)\n",
    "\n",
    "m.OBJ = pyo.Objective(rule=obj_expression, sense=pyo.maximize)"
   ]
  },
  {
   "cell_type": "markdown",
   "metadata": {},
   "source": [
    "### 6.3 Create base instance"
   ]
  },
  {
   "cell_type": "code",
   "execution_count": null,
   "metadata": {},
   "outputs": [],
   "source": [
    "inst_base = m.create_instance()\n",
    "applyFixes(inst_base, m)"
   ]
  },
  {
   "cell_type": "code",
   "execution_count": null,
   "metadata": {},
   "outputs": [],
   "source": [
    "for block in inst_base.block_data_objects(active=True):\n",
    "    print('variables:          ', idaes_utils.model_statistics.number_variables_in_activated_equalities(block))\n",
    "    print('  fixed:            ', idaes_utils.model_statistics.number_fixed_variables_in_activated_equalities(block))\n",
    "    print('  unfixed:          ', idaes_utils.model_statistics.number_unfixed_variables_in_activated_equalities(block))\n",
    "    print('constraints:        ', idaes_utils.model_statistics.number_activated_equalities(block))\n",
    "    print('degrees of freedom: ', idaes_utils.model_statistics.degrees_of_freedom(block))\n",
    "    checkSquareness(block)\n",
    "    checkFeasibility(block)\n",
    "    idaes_utils.model_statistics.report_statistics(block)\n"
   ]
  },
  {
   "cell_type": "code",
   "execution_count": null,
   "metadata": {},
   "outputs": [],
   "source": [
    "# Display some of the parameters\n",
    "inst_base.A.display()\n",
    "inst_base.alpha.display()\n",
    "inst_base.io.display()\n",
    "inst_base.v.display()\n",
    "inst_base.aij.display()\n",
    "inst_base.gamma.display()\n",
    "inst_base.psi.display()\n",
    "inst_base.mu.display()\n",
    "inst_base.lmbda.display()"
   ]
  },
  {
   "cell_type": "markdown",
   "metadata": {},
   "source": [
    "### 6.4 Create scenarios"
   ]
  },
  {
   "cell_type": "code",
   "execution_count": null,
   "metadata": {},
   "outputs": [],
   "source": [
    "### 25% reduction in indirect taxation:\n",
    "inst_scenario_1 = m.create_instance()\n",
    "applyFixes(inst_scenario_1, m)\n",
    "for tr in tradeables:\n",
    "    inst_scenario_1.tx[tr] = 0.75 * inst_scenario_1.tx[tr]\n",
    "\n",
    "\n",
    "# Capital shock on service sector\n",
    "inst_scenario_2 = m.create_instance()\n",
    "applyFixes(inst_scenario_2, m)\n",
    "inst_scenario_2.KS['SER'] = 1.1 * inst_scenario_2.KS['SER'].value\n",
    "\n",
    "# Shock to numeraire\n",
    "inst_scenario_3 = m.create_instance()\n",
    "applyFixes(inst_scenario_3, m)\n",
    "inst_scenario_3.P['AGR'] = 1.5 * inst_scenario_3.P['AGR'].value\n",
    "inst_scenario_3.DIV = 1.5 * inst_scenario_3.DIV.value\n",
    "inst_scenario_3.G = 1.5 * inst_scenario_3.G.value\n",
    "inst_scenario_3.TG = 1.5 * inst_scenario_3.TG.value\n"
   ]
  },
  {
   "cell_type": "markdown",
   "metadata": {},
   "source": [
    "## 7 Solve instances"
   ]
  },
  {
   "cell_type": "code",
   "execution_count": null,
   "metadata": {},
   "outputs": [],
   "source": [
    "opt = pyo.SolverFactory('ipopt')\n",
    "opt.options['max_cpu_time'] = 120 #seconds\n",
    "opt.options['warm_start_init_point'] = 'yes'\n",
    "opt.options['halt_on_ampl_error'] = 'yes'"
   ]
  },
  {
   "cell_type": "code",
   "execution_count": null,
   "metadata": {},
   "outputs": [],
   "source": [
    "res_base = opt.solve(inst_base, tee=True)\n",
    "if (res_base.Solver.Status != 'ok'):\n",
    "    print('Status NOT ok!')\n",
    "if (res_base.Solver[0]['Termination condition'] != 'optimal'):\n",
    "    print('Optimal solution NOT found!')\n",
    "else:\n",
    "    print('Optimal solution found!')\n",
    "res_base"
   ]
  },
  {
   "cell_type": "code",
   "execution_count": null,
   "metadata": {},
   "outputs": [],
   "source": [
    "res_scenario_1 = opt.solve(inst_scenario_1, tee=False)\n",
    "if (res_scenario_1.Solver.Status != 'ok'):\n",
    "    print('Status NOT ok!')\n",
    "if (res_scenario_1.Solver[0]['Termination condition'] != 'optimal'):\n",
    "    print('Optimal solution NOT found!')\n",
    "else:\n",
    "    print('Optimal solution found!')\n",
    "res_scenario_1"
   ]
  },
  {
   "cell_type": "code",
   "execution_count": null,
   "metadata": {},
   "outputs": [],
   "source": [
    "res_scenario_2 = opt.solve(inst_scenario_2, tee=False)\n",
    "if (res_scenario_2.Solver.Status != 'ok'):\n",
    "    print('Status NOT ok!')\n",
    "if (res_scenario_2.Solver[0]['Termination condition'] != 'optimal'):\n",
    "    print('Optimal solution NOT found!')\n",
    "else:\n",
    "    print('Optimal solution found!')\n",
    "res_scenario_2"
   ]
  },
  {
   "cell_type": "code",
   "execution_count": null,
   "metadata": {},
   "outputs": [],
   "source": [
    "res_scenario_3 = opt.solve(inst_scenario_3, tee=False)\n",
    "if (res_scenario_3.Solver.Status != 'ok'):\n",
    "    print('Status NOT ok!')\n",
    "if (res_scenario_3.Solver[0]['Termination condition'] != 'optimal'):\n",
    "    print('Optimal solution NOT found!')\n",
    "else:\n",
    "    print('Optimal solution found!')\n",
    "res_scenario_3"
   ]
  },
  {
   "cell_type": "markdown",
   "metadata": {},
   "source": [
    "## 8 Compare solutions"
   ]
  },
  {
   "cell_type": "markdown",
   "metadata": {},
   "source": [
    "### 8.1 Helper functions"
   ]
  },
  {
   "cell_type": "code",
   "execution_count": null,
   "metadata": {},
   "outputs": [],
   "source": [
    "def compare_scenarios(instances_dict):\n",
    "    results_obj = {}    \n",
    "    for instance_key in instances_dict.keys():\n",
    "        for block in instances_dict[instance_key].block_data_objects(active=True):\n",
    "            var_set = ComponentSet()\n",
    "            for v in block.component_map(pyo.Var, active=True).values():\n",
    "                if not v._name in results_obj.keys():\n",
    "                    results_obj[v._name] = {}\n",
    "                for key in v.keys():\n",
    "                    if not key in results_obj[v._name].keys():\n",
    "                        results_obj[v._name][key] = {}\n",
    "                    results_obj[v._name][key][instance_key] = v[key].value\n",
    "\n",
    "    return results_obj\n",
    "\n",
    "def results_dict_to_pandas_dict(results_obj):\n",
    "    pandas_dict = {}\n",
    "    for key in results_obj.keys():\n",
    "        df = pd.DataFrame.from_dict(results_obj[key], orient='index')\n",
    "        columns = list(df.columns)\n",
    "        for column in columns:\n",
    "            if column == columns[0]:\n",
    "                continue\n",
    "            df[f'{column} %diff'] = df[column]/df[columns[0]] - 1\n",
    "            df[f'{column} %diff'] = np.where((df[column] == 0) & (df[columns[0]] == 0), \n",
    "                                             0.0, df[f'{column} %diff'])\n",
    "        pandas_dict[key] = df\n",
    "    return pandas_dict\n",
    "\n",
    "def write_pandas_dict_to_file(pandas_dict, wb_path):\n",
    "    # book = load_workbook(wb_path)\n",
    "    writer = pd.ExcelWriter(wb_path)\n",
    "    workbook = writer.book\n",
    "    percent_fmt = workbook.add_format({'num_format': '0.00%'})\n",
    "    wrapped_text = workbook.add_format({\n",
    "        'text_wrap': True\n",
    "    })\n",
    "    \n",
    "    # writer.book = book\n",
    "    for key in pandas_dict.keys():\n",
    "        df = pandas_dict[key]\n",
    "        first_row = 2\n",
    "        last_row = 1 + len(df)\n",
    "        num_index_cols = 1\n",
    "        if type(df.index) == pd.core.indexes.multi.MultiIndex:\n",
    "            num_index_cols = len(df.index[0])\n",
    "        base_col = num_index_cols + 1\n",
    "        num_scenarios = int((len(list(df.columns)) - 1) / 2)\n",
    "        \n",
    "        df.to_excel(writer, sheet_name=key, index=True)\n",
    "        \n",
    "        workbook = writer.book\n",
    "        worksheet = writer.sheets[key]\n",
    "        \n",
    "        # Apply a conditional format to the cell range.\n",
    "        worksheet.conditional_format(\n",
    "            f'{chr(64 + base_col + num_scenarios + 1)}{first_row}:{chr(64 + base_col + num_scenarios*2)}{last_row}', \n",
    "            {'type': '3_color_scale'})\n",
    "        worksheet.set_column(f'{chr(64 + base_col + num_scenarios + 1)}:{chr(64 + base_col + num_scenarios*2)}', None, percent_fmt)\n",
    "        worksheet.set_row(0, 30, wrapped_text)\n",
    "        \n",
    "    writer.save()\n",
    "    print('done.')"
   ]
  },
  {
   "cell_type": "markdown",
   "metadata": {},
   "source": [
    "### 8.2 Store comparisons"
   ]
  },
  {
   "cell_type": "code",
   "execution_count": null,
   "metadata": {},
   "outputs": [],
   "source": [
    "results_obj = compare_scenarios({\n",
    "    'base': inst_base, \n",
    "    'scenario 1': inst_scenario_1,\n",
    "    'scenario 2': inst_scenario_2,\n",
    "    'scenario 3': inst_scenario_3\n",
    "    })\n",
    "    \n"
   ]
  },
  {
   "cell_type": "code",
   "execution_count": null,
   "metadata": {},
   "outputs": [],
   "source": [
    "pandas_dict = results_dict_to_pandas_dict(results_obj)"
   ]
  },
  {
   "cell_type": "code",
   "execution_count": null,
   "metadata": {},
   "outputs": [],
   "source": [
    "write_pandas_dict_to_file(pandas_dict, 'output/results_pyomo.xlsx')"
   ]
  },
  {
   "cell_type": "code",
   "execution_count": null,
   "metadata": {},
   "outputs": [],
   "source": []
  }
 ],
 "metadata": {
  "interpreter": {
   "hash": "468819c82e791b0f9a8e64a9b2ca550cabcbea14dfb8d98bf6b8daf534ac0400"
  },
  "kernelspec": {
   "display_name": "Python 3.8.8 64-bit ('base': conda)",
   "name": "python3"
  },
  "language_info": {
   "codemirror_mode": {
    "name": "ipython",
    "version": 3
   },
   "file_extension": ".py",
   "mimetype": "text/x-python",
   "name": "python",
   "nbconvert_exporter": "python",
   "pygments_lexer": "ipython3",
   "version": "3.8.8"
  },
  "orig_nbformat": 2
 },
 "nbformat": 4,
 "nbformat_minor": 2
}
